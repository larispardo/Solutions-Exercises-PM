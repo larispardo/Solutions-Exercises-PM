{
 "cells": [
  {
   "cell_type": "markdown",
   "metadata": {},
   "source": [
    "## Exercises left for week 01 PM Prod\n",
    "This exercises were left as a way to let students experiment with algortithms and see how capable they are at solving these. These exercises are\n",
    "1. Knapsack Problem\n",
    "2. Perfect Numbers\n",
    "3. Binary Tree\n",
    "4. Variance problem"
   ]
  },
  {
   "cell_type": "markdown",
   "metadata": {},
   "source": [
    "### Knapsack problem\n",
    "The knapsack problem is a problem  is a problem in [combinatorial optimization](https://en.wikipedia.org/wiki/Combinatorial_optimization): Given a set of items, each with a weight and a value, determine the number of each item to include in a collection so that the total weight is less than or equal to a given limit and the total value is as large as possible.\n",
    "\n",
    "This is an interesting problem since is an [NP](https://www.youtube.com/watch?v=UR2oDYZ-Sao) pronblem, this means that there is not a polinomial way to resolve this porblem and it is hard. In simple words it means that there is not one alorithm that will always lead you to the right answer.\n",
    "\n",
    "Still the problem is simple, if you have a knapsack with a maximum weiht, and a bunch of articles with weihts and values, how do I optimize the way I put them all together in mu knapsack in order for them to maximize my value.\n",
    "\n",
    "Bellow I present an answer using recursion proramming and dynamic programming\n",
    "\n",
    "**Disclosure: this was taken from one of my students Luis Manuel Martinez**"
   ]
  },
  {
   "cell_type": "code",
   "execution_count": 2,
   "metadata": {},
   "outputs": [],
   "source": [
    "import csv\n",
    "from collections import deque"
   ]
  },
  {
   "cell_type": "code",
   "execution_count": 20,
   "metadata": {},
   "outputs": [
    {
     "name": "stdout",
     "output_type": "stream",
     "text": [
      "CPU times: user 53.7 ms, sys: 2.72 ms, total: 56.4 ms\n",
      "Wall time: 57.4 ms\n"
     ]
    }
   ],
   "source": [
    "%%time\n",
    "## Recursion method\n",
    "objects = deque()\n",
    "max_w = 0\n",
    "small = True\n",
    "if small:\n",
    "    data = 'knapsack.csv'\n",
    "else:\n",
    "    data = 'knapsack-2.csv'\n",
    "        \n",
    "def get_data():\n",
    "    global max_w\n",
    "    with open(data,'r') as f:\n",
    "        csv_reader = csv.reader(f)\n",
    "        i = 0\n",
    "        for row in csv_reader:\n",
    "            if i==0:\n",
    "                i+=1\n",
    "                continue\n",
    "            if i == 1:\n",
    "                i+=1\n",
    "                max_w=int(row[2])\n",
    "            objects.append((int(row[0]),int(row[1])))\n",
    "\n",
    "def solve(w_left,i=0,v=0, knapsack = list()):\n",
    "    if not w_left or i>=len(objects):\n",
    "        return (v,knapsack)\n",
    "    if(w_left>=objects[i][0]):\n",
    "        return max(solve(w_left,i+1,v,knapsack),         solve(w_left-objects[i][0],        i+1,        v+objects[i][1],        list(knapsack+[(objects[i][0],objects[i][1])])        ))\n",
    "    return solve(w_left,i+1,v,knapsack)\n",
    "\n",
    "\n",
    "get_data()\n",
    "k = (solve(w_left=max_w))"
   ]
  },
  {
   "cell_type": "code",
   "execution_count": 7,
   "metadata": {},
   "outputs": [
    {
     "data": {
      "text/plain": [
       "1458"
      ]
     },
     "execution_count": 7,
     "metadata": {},
     "output_type": "execute_result"
    }
   ],
   "source": [
    "k"
   ]
  },
  {
   "cell_type": "markdown",
   "metadata": {},
   "source": [
    "As you can see this takes some time to answer, now let's take Dynamic prorammingg and compare."
   ]
  },
  {
   "cell_type": "code",
   "execution_count": 29,
   "metadata": {},
   "outputs": [],
   "source": [
    "def knapSack(W, wt, val, n):\n",
    "    import numpy as np\n",
    "    '''\n",
    "    Input:\n",
    "    W is the maximum weight\n",
    "    wt is an array with the weights of the items\n",
    "    val is an array of the values of the items\n",
    "    n is the amount of items\n",
    "    '''\n",
    "    # First to make dynamic programming create a matrix with all possible combinations of n items with W weights \n",
    "    # basically what we are doping here is to predefine the matrix so we save the memory \n",
    "    # and time instead of doing recursive programming\n",
    "    print(\"I am creating a %5d by %5d matrix to save the information\" % (W+1, n+1))\n",
    "    K = [[0] * (W + 1) for x in range(n + 1)] # Very pythonic way of writing this\n",
    "    \n",
    " \n",
    "    # Build table K[][] in bottom up manner\n",
    "    for i in range(n + 1):\n",
    "        for w in range(W + 1):\n",
    "            if i == 0 or w == 0:\n",
    "                K[i][w] = 0\n",
    "            elif wt[i-1] <= w:\n",
    "                K[i][w] = max(val[i-1]\n",
    "                          + K[i-1][w-wt[i-1]],  \n",
    "                              K[i-1][w])\n",
    "            else:\n",
    "                K[i][w] = K[i-1][w]\n",
    " \n",
    "    return (np.array(K),K[n][W])"
   ]
  },
  {
   "cell_type": "code",
   "execution_count": 30,
   "metadata": {},
   "outputs": [
    {
     "name": "stdout",
     "output_type": "stream",
     "text": [
      "I am creating a   751 by    16 matrix to save the information\n",
      "CPU times: user 9.27 ms, sys: 716 µs, total: 9.99 ms\n",
      "Wall time: 9.52 ms\n"
     ]
    }
   ],
   "source": [
    "%%time\n",
    "wt = [x[0] for x in objects]\n",
    "val = [x[1] for x in objects]\n",
    "n = len(val)\n",
    "k = (knapSack(max_w, wt, val, n))"
   ]
  },
  {
   "cell_type": "code",
   "execution_count": 33,
   "metadata": {},
   "outputs": [
    {
     "name": "stdout",
     "output_type": "stream",
     "text": [
      "I am creating a    53 by     4 matrix to save the information\n",
      "[[  0   0   0   0   0   0   0   0   0   0   0   0   0   0   0   0   0   0\n",
      "    0   0   0   0   0   0   0   0   0   0   0   0   0   0   0   0   0   0\n",
      "    0   0   0   0   0   0   0   0   0   0   0   0   0   0   0   0   0]\n",
      " [  0   0   0   0   0   0   0   0   0   0  60  60  60  60  60  60  60  60\n",
      "   60  60  60  60  60  60  60  60  60  60  60  60  60  60  60  60  60  60\n",
      "   60  60  60  60  60  60  60  60  60  60  60  60  60  60  60  60  60]\n",
      " [  0   0   0   0   0   0   0   0   0   0  60  60  60  60  60  60  60  60\n",
      "   60  60 100 100 100 100 100 100 100 100 100 100 160 160 160 160 160 160\n",
      "  160 160 160 160 160 160 160 160 160 160 160 160 160 160 160 160 160]\n",
      " [  0   0   0   0   0   0   0   0   0   0  60  60  60  60  60  60  60  60\n",
      "   60  60 100 100 100 100 100 100 100 100 100 100 160 160 160 160 160 160\n",
      "  160 160 160 160 180 180 180 180 180 180 180 180 180 180 220 220 220]]\n"
     ]
    }
   ],
   "source": [
    "val = [60, 100, 120]\n",
    "wt = [10, 20, 30]\n",
    "W = 52\n",
    "n = len(val)\n",
    "print(knapSack(W, wt, val, n)[0])\n"
   ]
  },
  {
   "cell_type": "markdown",
   "metadata": {},
   "source": [
    "As you can see with low amount of values the dynamic programming is faster, but with huge maximum capacity for the knapsack it will get slower and slower.\n",
    "\n",
    "Still, for this las example we can see how the matrix works, array 0 checks for all the possible weight with the 0th elements, this is mainly done so it does not get an error when checking for the knapsack's n-1 element.\n",
    "\n",
    "For the second array it checks the knapsack in all possible ways for the first element, the one with weight 10, that is why in the 10th element of the array is when we start seeing that the knapsack will have value 60. In the third row of the matrixz or the third array we see how with weight 10 it will carry the first element, at weight 20 it will only carry the second element and for the weight 30 it will carry both the elements. Following the same logic, Can you see what is happening in the fourth array and why the last 3 elements are the ones with value 220?"
   ]
  },
  {
   "cell_type": "markdown",
   "metadata": {},
   "source": [
    "### Perfect Numbers\n",
    "A [perfect number](https://en.wikipedia.org/wiki/Perfect_number) is such that the sum of all its divisors (without itself) gives the number at hand. For example 6 is a perfect number since 3+2+1 = 6. Now make a funcion that, given a number N prints all the perfect numbers less or equal to N that are perfect numbers. For this we will use [the fundamental theorem of arithmetic](https://brilliant.org/wiki/fundamental-theorem-of-arithmetic/#:~:text=The%20fundamental%20theorem%20of%20arithmetic,unique%20combination%20of%20prime%20numbers.) and [the theorem of composite numbers](https://proofwiki.org/wiki/Composite_Number_has_Prime_Factor_not_Greater_Than_its_Square_Root)"
   ]
  },
  {
   "cell_type": "code",
   "execution_count": 58,
   "metadata": {},
   "outputs": [],
   "source": [
    "# Python program to print prime factors \n",
    "\n",
    "import math \n",
    "\n",
    "# A function to print all prime factors of \n",
    "# a given number n \n",
    "class PerfectNums:\n",
    "    def __init__(self, N):\n",
    "        self.n = N\n",
    "        self.perfect_numbers = [] # this should be a queue\n",
    "        \n",
    "    def sumFactors(self, n): \n",
    "        sum_factor = 1 # this should be a queue\n",
    "        \n",
    "        i = 2\n",
    "        # composite theorem\n",
    "        while i <= math.sqrt(n): \n",
    "            if (n % i == 0) : \n",
    "                # If divisors are equal, print only one \n",
    "                if (n / i == i) : \n",
    "                    sum_factor += i\n",
    "                else : \n",
    "                    # Otherwise print both \n",
    "                    sum_factor += i  \n",
    "                    sum_factor += n/i \n",
    "            i = i + 1\n",
    "        return sum_factor\n",
    "    \n",
    "    \n",
    "        \n",
    "    def GetPerfectNumbers(self):\n",
    "        # we know that 6 is the first perfect number, so we need \n",
    "        for i in range(6,self.n+1):\n",
    "            factors = self.sumFactors(i)\n",
    "            \n",
    "            if factors == i:\n",
    "                self.perfect_numbers.append(i)\n",
    "        return self.perfect_numbers"
   ]
  },
  {
   "cell_type": "code",
   "execution_count": 61,
   "metadata": {},
   "outputs": [
    {
     "data": {
      "text/plain": [
       "[6, 28, 496, 8128]"
      ]
     },
     "execution_count": 61,
     "metadata": {},
     "output_type": "execute_result"
    }
   ],
   "source": [
    "# Driver Program to test above function \n",
    "n = 10000\n",
    "calcs = PerfectNums(n) \n",
    "calcs.GetPerfectNumbers()"
   ]
  },
  {
   "cell_type": "code",
   "execution_count": null,
   "metadata": {},
   "outputs": [],
   "source": []
  },
  {
   "cell_type": "code",
   "execution_count": 3,
   "metadata": {},
   "outputs": [
    {
     "name": "stdout",
     "output_type": "stream",
     "text": [
      "1\n",
      "1000\n",
      "3\n",
      "2\n"
     ]
    }
   ],
   "source": [
    "class BinaryTree():\n",
    "\n",
    "    def __init__(self,rootid):\n",
    "      self.left = None\n",
    "      self.right = None\n",
    "      self.rootid = rootid\n",
    "\n",
    "    def getLeftChild(self):\n",
    "        return self.left\n",
    "    def getRightChild(self):\n",
    "        return self.right\n",
    "    def setNodeValue(self,value):\n",
    "        self.rootid = value\n",
    "    def getNodeValue(self):\n",
    "        return self.rootid\n",
    "\n",
    "    def insertRight(self,newNode):\n",
    "        if self.right == None:\n",
    "            self.right = BinaryTree(newNode)\n",
    "        else:\n",
    "            tree = BinaryTree(newNode)\n",
    "            tree.right = self.right\n",
    "            self.right = tree\n",
    "\n",
    "    def insertLeft(self,newNode):\n",
    "        if self.left == None:\n",
    "            self.left = BinaryTree(newNode)\n",
    "        else:\n",
    "            tree = BinaryTree(newNode)\n",
    "            tree.left = self.left\n",
    "            self.left = tree\n",
    "\n",
    "\n",
    "def printTree(tree):\n",
    "        if tree != None:\n",
    "            printTree(tree.getLeftChild())\n",
    "            print(tree.getNodeValue())\n",
    "            printTree(tree.getRightChild())\n",
    "\n",
    "\n",
    "\n",
    "\n",
    "myTree = BinaryTree(1000)\n",
    "myTree.insertLeft(1)\n",
    "myTree.insertRight(2)\n",
    "myTree.insertRight(3)\n",
    "printTree(myTree)"
   ]
  },
  {
   "cell_type": "markdown",
   "metadata": {},
   "source": [
    "### Get the variance of the event of getting two heads in a row.\n"
   ]
  },
  {
   "cell_type": "markdown",
   "metadata": {},
   "source": [
    "### Answer\n",
    "Saying that experiment A has probability p of happening (in this case getting heads) and experiment B has $q=1-p$ probability of happening, then:\n",
    "\n",
    "If you wanted to calculate the probabilities, assuming $p$ is the probability of success and $q=1-p$, then the important thing is to notice is that for the experiment to work, then you need to have failed $x-2$ times the experiment and then have two consecutive experiments in the last two cases (similar to a geometric distribution). \n",
    "\n",
    "In this case, the probability of failing up to $x-2$ can be seen as all the combinations of experiments where the sum of the exponents of $p$ and $q$ sumed is $x-2$ but the exponent in $p$ has to be smaller than that of $q$ (this is due to the fact that if experiment A happens more times than experiemtn B, then at some moment in the sequence experiment A had to have happened two times in a row). Another constriction is that experiment A cannot happen last in the x-2 first experiments (if this was true, then the experiment would end after x-1 instead of at x). \n",
    "\n",
    "We need to ensure to not count the cases where p appears two consecutive times (or more) in the sequence. we accomplish this by getting ${x-2-k \\choose k}$ (this can be proofed by deduction. Done bellow, but is not good and I believe it can be written better.)\n",
    "\n",
    "[One could also use the probability generating function](https://math.stackexchange.com/questions/2845196/expected-number-of-coin-flips-for-2-consecutive-heads-for-first-time)"
   ]
  },
  {
   "cell_type": "markdown",
   "metadata": {},
   "source": [
    "Then this means that \n",
    "\n",
    "$$P(X=x) = \\bigg( \\sum^{\\frac{x-2}{2}}_{k=0}{x-2-k \\choose k} q^{x-2-k}*p^{k}\\bigg) * p^2$$"
   ]
  },
  {
   "cell_type": "markdown",
   "metadata": {},
   "source": [
    "proof by deduction:\n",
    "\n",
    "suppose we want the combinations of cases where the events with probability $p$ and $q$ happen $n$ times in total, but with the restriction of p never appearing in consecutive cases and it cannot be in the last position, then the easiest way to think about this is to imagine two events that you are drawing from $q$ and $pq$, then we can see what happens in each case to form our case (it is not necessary, but is easier to understand if put on paper)\n",
    "\n",
    "* i=0\n",
    "In this case we have n q events happening and 0 pq, then we have n choose 0 \n",
    "$$f(n,p,q) = q*q*...*q = {n \\choose 0} q^n$$\n",
    "* i=1\n",
    "For this case we are looking for the case where we hace n-2 q events and 1 pq event happening, then in total we have n-1 events happening. This means we have n-1 choose 1.\n",
    "$$f(n,p,q) = p*q*...*q + q*p*...*q*q + ... + q*q*...*p*q = {n-1 \\choose 1}*q^{n-1}*p^1$$\n",
    "the reason why this is choose 1 in $n-1$ is because there are n-1 possible positions where 1 $p$ can be.\n",
    "* i=2\n",
    "For this case we are looking for the case where we hace n-4 q events and 2 pq event happening, then in total we have n-2 events happening. This means we have n-2 choose 2.\n",
    "$$f(n,p,q) = {n-2 \\choose 2}*q^{n-4}*(qp)^2 = {n-2 \\choose 2}*q^{n-2}*p^2$$\n",
    "\n",
    "getting the same logic as in the last case for the kth case we can say that\n",
    "* i=k\n",
    "$$f(n,p,q) = {n-k \\choose k}*q^{n-k}*p^k$$ (where $k < n/2$)\n",
    "\n",
    "(If you wanted to do a similar prove for the general case where the experiment ends after l events happening in the row, the same idea can be done as here, but with the events q, pq...q, p..pq and so on.)\n",
    "\n"
   ]
  },
  {
   "cell_type": "code",
   "execution_count": 15,
   "metadata": {},
   "outputs": [],
   "source": [
    "def calculate_combinations(n, r):\n",
    "    from math import factorial\n",
    "    return factorial(n) // factorial(r) // factorial(n-r)\n",
    "def calculate_probability(x, p=1/2):\n",
    "    from math import floor\n",
    "    cumulative = 0\n",
    "    if x>1:\n",
    "        for i in range(floor((x-2)/2)+1):\n",
    "            cumulative += calculate_combinations(x-2-i,i)*(1-p)**(x-2-i)*p**(i)\n",
    "        return cumulative*p**2\n",
    "    else:\n",
    "        return 0"
   ]
  },
  {
   "cell_type": "code",
   "execution_count": 16,
   "metadata": {},
   "outputs": [
    {
     "data": {
      "text/plain": [
       "0.25"
      ]
     },
     "execution_count": 16,
     "metadata": {},
     "output_type": "execute_result"
    }
   ],
   "source": [
    "calculate_probability(2)"
   ]
  },
  {
   "cell_type": "code",
   "execution_count": 17,
   "metadata": {},
   "outputs": [],
   "source": [
    "def simulate_experiment(sims, p=1/2):\n",
    "    trials = []\n",
    "    for i in range(sims):\n",
    "        counter = 0\n",
    "        consecutive = 0\n",
    "        while True:\n",
    "            counter +=1\n",
    "            if(np.random.rand()<p):\n",
    "                consecutive +=1\n",
    "            else:\n",
    "                consecutive = 0\n",
    "            if consecutive == 2:\n",
    "                break\n",
    "        trials.append(counter)\n",
    "    return(np.mean(trials), np.var(trials))"
   ]
  },
  {
   "cell_type": "code",
   "execution_count": 18,
   "metadata": {},
   "outputs": [],
   "source": [
    "expectation = 0\n",
    "moment2 = 0\n",
    "for i in range(1000):\n",
    "    expectation += i*calculate_probability(i)\n",
    "    moment2 += i*i*calculate_probability(i)"
   ]
  },
  {
   "cell_type": "code",
   "execution_count": 19,
   "metadata": {},
   "outputs": [
    {
     "name": "stdout",
     "output_type": "stream",
     "text": [
      "22.00000000000002\n"
     ]
    }
   ],
   "source": [
    "print(moment2-expectation**2)"
   ]
  },
  {
   "cell_type": "code",
   "execution_count": 20,
   "metadata": {},
   "outputs": [
    {
     "data": {
      "text/plain": [
       "(5.996216, 21.962195681344006)"
      ]
     },
     "execution_count": 20,
     "metadata": {},
     "output_type": "execute_result"
    }
   ],
   "source": [
    "simulate_experiment(1000000)"
   ]
  }
 ],
 "metadata": {
  "kernelspec": {
   "display_name": "Python 3.6",
   "language": "python",
   "name": "python3"
  },
  "language_info": {
   "codemirror_mode": {
    "name": "ipython",
    "version": 3
   },
   "file_extension": ".py",
   "mimetype": "text/x-python",
   "name": "python",
   "nbconvert_exporter": "python",
   "pygments_lexer": "ipython3",
   "version": "3.6.8"
  }
 },
 "nbformat": 4,
 "nbformat_minor": 4
}
